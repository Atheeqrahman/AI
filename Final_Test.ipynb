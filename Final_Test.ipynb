{
 "cells": [
  {
   "cell_type": "code",
   "execution_count": 1,
   "metadata": {},
   "outputs": [
    {
     "name": "stdout",
     "output_type": "stream",
     "text": [
      "Requirement already satisfied: speechRecognition in c:\\users\\athee\\appdata\\local\\programs\\python\\python311\\lib\\site-packages (3.10.0)\n",
      "Requirement already satisfied: bardapi in c:\\users\\athee\\appdata\\local\\programs\\python\\python311\\lib\\site-packages (0.1.33)\n",
      "Requirement already satisfied: gtts in c:\\users\\athee\\appdata\\local\\programs\\python\\python311\\lib\\site-packages (2.3.2)\n",
      "Requirement already satisfied: pyaudio in c:\\users\\athee\\appdata\\local\\programs\\python\\python311\\lib\\site-packages (0.2.13)\n",
      "Requirement already satisfied: requests>=2.26.0 in c:\\users\\athee\\appdata\\local\\programs\\python\\python311\\lib\\site-packages (from speechRecognition) (2.31.0)\n",
      "Requirement already satisfied: deep-translator in c:\\users\\athee\\appdata\\local\\programs\\python\\python311\\lib\\site-packages (from bardapi) (1.11.4)\n",
      "Requirement already satisfied: colorama in c:\\users\\athee\\appdata\\local\\programs\\python\\python311\\lib\\site-packages (from bardapi) (0.4.6)\n",
      "Requirement already satisfied: httpx[http2]>=0.20.0 in c:\\users\\athee\\appdata\\local\\programs\\python\\python311\\lib\\site-packages (from bardapi) (0.24.1)\n",
      "Requirement already satisfied: google-cloud-translate in c:\\users\\athee\\appdata\\local\\programs\\python\\python311\\lib\\site-packages (from bardapi) (3.12.0)\n",
      "Requirement already satisfied: browser-cookie3 in c:\\users\\athee\\appdata\\local\\programs\\python\\python311\\lib\\site-packages (from bardapi) (0.19.1)\n",
      "Requirement already satisfied: langdetect in c:\\users\\athee\\appdata\\local\\programs\\python\\python311\\lib\\site-packages (from bardapi) (1.0.9)\n",
      "Requirement already satisfied: click<8.2,>=7.1 in c:\\users\\athee\\appdata\\local\\programs\\python\\python311\\lib\\site-packages (from gtts) (8.1.7)\n",
      "Requirement already satisfied: certifi in c:\\users\\athee\\appdata\\local\\programs\\python\\python311\\lib\\site-packages (from httpx[http2]>=0.20.0->bardapi) (2023.7.22)\n",
      "Requirement already satisfied: httpcore<0.18.0,>=0.15.0 in c:\\users\\athee\\appdata\\local\\programs\\python\\python311\\lib\\site-packages (from httpx[http2]>=0.20.0->bardapi) (0.17.3)\n",
      "Requirement already satisfied: idna in c:\\users\\athee\\appdata\\local\\programs\\python\\python311\\lib\\site-packages (from httpx[http2]>=0.20.0->bardapi) (3.4)\n",
      "Requirement already satisfied: sniffio in c:\\users\\athee\\appdata\\local\\programs\\python\\python311\\lib\\site-packages (from httpx[http2]>=0.20.0->bardapi) (1.3.0)\n",
      "Requirement already satisfied: h2<5,>=3 in c:\\users\\athee\\appdata\\local\\programs\\python\\python311\\lib\\site-packages (from httpx[http2]>=0.20.0->bardapi) (4.1.0)\n",
      "Requirement already satisfied: charset-normalizer<4,>=2 in c:\\users\\athee\\appdata\\local\\programs\\python\\python311\\lib\\site-packages (from requests>=2.26.0->speechRecognition) (3.2.0)\n",
      "Requirement already satisfied: urllib3<3,>=1.21.1 in c:\\users\\athee\\appdata\\local\\programs\\python\\python311\\lib\\site-packages (from requests>=2.26.0->speechRecognition) (1.26.16)\n",
      "Requirement already satisfied: lz4 in c:\\users\\athee\\appdata\\local\\programs\\python\\python311\\lib\\site-packages (from browser-cookie3->bardapi) (4.3.2)\n",
      "Requirement already satisfied: pycryptodomex in c:\\users\\athee\\appdata\\local\\programs\\python\\python311\\lib\\site-packages (from browser-cookie3->bardapi) (3.18.0)\n",
      "Requirement already satisfied: beautifulsoup4<5.0.0,>=4.9.1 in c:\\users\\athee\\appdata\\local\\programs\\python\\python311\\lib\\site-packages (from deep-translator->bardapi) (4.12.2)\n",
      "Requirement already satisfied: google-api-core[grpc]!=2.0.*,!=2.1.*,!=2.10.*,!=2.2.*,!=2.3.*,!=2.4.*,!=2.5.*,!=2.6.*,!=2.7.*,!=2.8.*,!=2.9.*,<3.0.0dev,>=1.34.0 in c:\\users\\athee\\appdata\\local\\programs\\python\\python311\\lib\\site-packages (from google-cloud-translate->bardapi) (2.11.1)\n",
      "Requirement already satisfied: google-cloud-core<3.0.0dev,>=1.3.0 in c:\\users\\athee\\appdata\\local\\programs\\python\\python311\\lib\\site-packages (from google-cloud-translate->bardapi) (2.3.3)\n",
      "Requirement already satisfied: proto-plus<2.0.0dev,>=1.22.0 in c:\\users\\athee\\appdata\\local\\programs\\python\\python311\\lib\\site-packages (from google-cloud-translate->bardapi) (1.22.3)\n",
      "Requirement already satisfied: protobuf!=3.20.0,!=3.20.1,!=4.21.0,!=4.21.1,!=4.21.2,!=4.21.3,!=4.21.4,!=4.21.5,<5.0.0dev,>=3.19.5 in c:\\users\\athee\\appdata\\local\\programs\\python\\python311\\lib\\site-packages (from google-cloud-translate->bardapi) (4.24.3)\n",
      "Requirement already satisfied: six in c:\\users\\athee\\appdata\\local\\programs\\python\\python311\\lib\\site-packages (from langdetect->bardapi) (1.16.0)\n",
      "Requirement already satisfied: soupsieve>1.2 in c:\\users\\athee\\appdata\\local\\programs\\python\\python311\\lib\\site-packages (from beautifulsoup4<5.0.0,>=4.9.1->deep-translator->bardapi) (2.5)\n",
      "Requirement already satisfied: googleapis-common-protos<2.0.dev0,>=1.56.2 in c:\\users\\athee\\appdata\\local\\programs\\python\\python311\\lib\\site-packages (from google-api-core[grpc]!=2.0.*,!=2.1.*,!=2.10.*,!=2.2.*,!=2.3.*,!=2.4.*,!=2.5.*,!=2.6.*,!=2.7.*,!=2.8.*,!=2.9.*,<3.0.0dev,>=1.34.0->google-cloud-translate->bardapi) (1.60.0)\n",
      "Requirement already satisfied: google-auth<3.0.dev0,>=2.14.1 in c:\\users\\athee\\appdata\\local\\programs\\python\\python311\\lib\\site-packages (from google-api-core[grpc]!=2.0.*,!=2.1.*,!=2.10.*,!=2.2.*,!=2.3.*,!=2.4.*,!=2.5.*,!=2.6.*,!=2.7.*,!=2.8.*,!=2.9.*,<3.0.0dev,>=1.34.0->google-cloud-translate->bardapi) (2.22.0)\n",
      "Requirement already satisfied: grpcio<2.0dev,>=1.33.2 in c:\\users\\athee\\appdata\\local\\programs\\python\\python311\\lib\\site-packages (from google-api-core[grpc]!=2.0.*,!=2.1.*,!=2.10.*,!=2.2.*,!=2.3.*,!=2.4.*,!=2.5.*,!=2.6.*,!=2.7.*,!=2.8.*,!=2.9.*,<3.0.0dev,>=1.34.0->google-cloud-translate->bardapi) (1.58.0)\n",
      "Requirement already satisfied: grpcio-status<2.0.dev0,>=1.33.2 in c:\\users\\athee\\appdata\\local\\programs\\python\\python311\\lib\\site-packages (from google-api-core[grpc]!=2.0.*,!=2.1.*,!=2.10.*,!=2.2.*,!=2.3.*,!=2.4.*,!=2.5.*,!=2.6.*,!=2.7.*,!=2.8.*,!=2.9.*,<3.0.0dev,>=1.34.0->google-cloud-translate->bardapi) (1.58.0)\n",
      "Requirement already satisfied: hyperframe<7,>=6.0 in c:\\users\\athee\\appdata\\local\\programs\\python\\python311\\lib\\site-packages (from h2<5,>=3->httpx[http2]>=0.20.0->bardapi) (6.0.1)\n",
      "Requirement already satisfied: hpack<5,>=4.0 in c:\\users\\athee\\appdata\\local\\programs\\python\\python311\\lib\\site-packages (from h2<5,>=3->httpx[http2]>=0.20.0->bardapi) (4.0.0)\n",
      "Requirement already satisfied: h11<0.15,>=0.13 in c:\\users\\athee\\appdata\\local\\programs\\python\\python311\\lib\\site-packages (from httpcore<0.18.0,>=0.15.0->httpx[http2]>=0.20.0->bardapi) (0.14.0)\n",
      "Requirement already satisfied: anyio<5.0,>=3.0 in c:\\users\\athee\\appdata\\local\\programs\\python\\python311\\lib\\site-packages (from httpcore<0.18.0,>=0.15.0->httpx[http2]>=0.20.0->bardapi) (4.0.0)\n",
      "Requirement already satisfied: cachetools<6.0,>=2.0.0 in c:\\users\\athee\\appdata\\local\\programs\\python\\python311\\lib\\site-packages (from google-auth<3.0.dev0,>=2.14.1->google-api-core[grpc]!=2.0.*,!=2.1.*,!=2.10.*,!=2.2.*,!=2.3.*,!=2.4.*,!=2.5.*,!=2.6.*,!=2.7.*,!=2.8.*,!=2.9.*,<3.0.0dev,>=1.34.0->google-cloud-translate->bardapi) (5.3.1)\n",
      "Requirement already satisfied: pyasn1-modules>=0.2.1 in c:\\users\\athee\\appdata\\local\\programs\\python\\python311\\lib\\site-packages (from google-auth<3.0.dev0,>=2.14.1->google-api-core[grpc]!=2.0.*,!=2.1.*,!=2.10.*,!=2.2.*,!=2.3.*,!=2.4.*,!=2.5.*,!=2.6.*,!=2.7.*,!=2.8.*,!=2.9.*,<3.0.0dev,>=1.34.0->google-cloud-translate->bardapi) (0.3.0)\n",
      "Requirement already satisfied: rsa<5,>=3.1.4 in c:\\users\\athee\\appdata\\local\\programs\\python\\python311\\lib\\site-packages (from google-auth<3.0.dev0,>=2.14.1->google-api-core[grpc]!=2.0.*,!=2.1.*,!=2.10.*,!=2.2.*,!=2.3.*,!=2.4.*,!=2.5.*,!=2.6.*,!=2.7.*,!=2.8.*,!=2.9.*,<3.0.0dev,>=1.34.0->google-cloud-translate->bardapi) (4.9)\n",
      "Requirement already satisfied: pyasn1<0.6.0,>=0.4.6 in c:\\users\\athee\\appdata\\local\\programs\\python\\python311\\lib\\site-packages (from pyasn1-modules>=0.2.1->google-auth<3.0.dev0,>=2.14.1->google-api-core[grpc]!=2.0.*,!=2.1.*,!=2.10.*,!=2.2.*,!=2.3.*,!=2.4.*,!=2.5.*,!=2.6.*,!=2.7.*,!=2.8.*,!=2.9.*,<3.0.0dev,>=1.34.0->google-cloud-translate->bardapi) (0.5.0)\n",
      "Note: you may need to restart the kernel to use updated packages.\n"
     ]
    }
   ],
   "source": [
    "%pip install speechRecognition bardapi gtts pyaudio"
   ]
  },
  {
   "cell_type": "code",
   "execution_count": 1,
   "metadata": {},
   "outputs": [
    {
     "name": "stdout",
     "output_type": "stream",
     "text": [
      "Say something...\n",
      "You said: hello\n",
      "Reply: Hello there! How can I help you today?\n",
      "Say something...\n",
      "You said: call vishal's\n",
      "Reply: I need more information on what kind of business Vishal's is and where it is located. Here are a few options: * Vishal's Home Food (food producer): 072001 29259 *\n",
      "Say something...\n"
     ]
    },
    {
     "ename": "KeyboardInterrupt",
     "evalue": "",
     "output_type": "error",
     "traceback": [
      "\u001b[1;31m---------------------------------------------------------------------------\u001b[0m",
      "\u001b[1;31mKeyboardInterrupt\u001b[0m                         Traceback (most recent call last)",
      "\u001b[1;32mc:\\Users\\athee\\Downloads\\Demo\\Final_Test.ipynb Cell 2\u001b[0m line \u001b[0;36m4\n\u001b[0;32m     <a href='vscode-notebook-cell:/c%3A/Users/athee/Downloads/Demo/Final_Test.ipynb#W1sZmlsZQ%3D%3D?line=38'>39</a>\u001b[0m     \u001b[39mprint\u001b[39m(\u001b[39m\"\u001b[39m\u001b[39mSay something...\u001b[39m\u001b[39m\"\u001b[39m)\n\u001b[0;32m     <a href='vscode-notebook-cell:/c%3A/Users/athee/Downloads/Demo/Final_Test.ipynb#W1sZmlsZQ%3D%3D?line=39'>40</a>\u001b[0m     \u001b[39m# Listen to the user's speech and recognize it\u001b[39;00m\n\u001b[1;32m---> <a href='vscode-notebook-cell:/c%3A/Users/athee/Downloads/Demo/Final_Test.ipynb#W1sZmlsZQ%3D%3D?line=40'>41</a>\u001b[0m     audio \u001b[39m=\u001b[39m recognizer\u001b[39m.\u001b[39;49mlisten(source)\n\u001b[0;32m     <a href='vscode-notebook-cell:/c%3A/Users/athee/Downloads/Demo/Final_Test.ipynb#W1sZmlsZQ%3D%3D?line=42'>43</a>\u001b[0m \u001b[39m# Convert the recognized speech to text\u001b[39;00m\n\u001b[0;32m     <a href='vscode-notebook-cell:/c%3A/Users/athee/Downloads/Demo/Final_Test.ipynb#W1sZmlsZQ%3D%3D?line=43'>44</a>\u001b[0m query \u001b[39m=\u001b[39m recognizer\u001b[39m.\u001b[39mrecognize_google(audio)\n",
      "File \u001b[1;32mc:\\Users\\athee\\AppData\\Local\\Programs\\Python\\Python311\\Lib\\site-packages\\speech_recognition\\__init__.py:523\u001b[0m, in \u001b[0;36mRecognizer.listen\u001b[1;34m(self, source, timeout, phrase_time_limit, snowboy_configuration)\u001b[0m\n\u001b[0;32m    520\u001b[0m \u001b[39mif\u001b[39;00m phrase_time_limit \u001b[39mand\u001b[39;00m elapsed_time \u001b[39m-\u001b[39m phrase_start_time \u001b[39m>\u001b[39m phrase_time_limit:\n\u001b[0;32m    521\u001b[0m     \u001b[39mbreak\u001b[39;00m\n\u001b[1;32m--> 523\u001b[0m buffer \u001b[39m=\u001b[39m source\u001b[39m.\u001b[39;49mstream\u001b[39m.\u001b[39;49mread(source\u001b[39m.\u001b[39;49mCHUNK)\n\u001b[0;32m    524\u001b[0m \u001b[39mif\u001b[39;00m \u001b[39mlen\u001b[39m(buffer) \u001b[39m==\u001b[39m \u001b[39m0\u001b[39m: \u001b[39mbreak\u001b[39;00m  \u001b[39m# reached end of the stream\u001b[39;00m\n\u001b[0;32m    525\u001b[0m frames\u001b[39m.\u001b[39mappend(buffer)\n",
      "File \u001b[1;32mc:\\Users\\athee\\AppData\\Local\\Programs\\Python\\Python311\\Lib\\site-packages\\speech_recognition\\__init__.py:199\u001b[0m, in \u001b[0;36mMicrophone.MicrophoneStream.read\u001b[1;34m(self, size)\u001b[0m\n\u001b[0;32m    198\u001b[0m \u001b[39mdef\u001b[39;00m \u001b[39mread\u001b[39m(\u001b[39mself\u001b[39m, size):\n\u001b[1;32m--> 199\u001b[0m     \u001b[39mreturn\u001b[39;00m \u001b[39mself\u001b[39;49m\u001b[39m.\u001b[39;49mpyaudio_stream\u001b[39m.\u001b[39;49mread(size, exception_on_overflow\u001b[39m=\u001b[39;49m\u001b[39mFalse\u001b[39;49;00m)\n",
      "File \u001b[1;32mc:\\Users\\athee\\AppData\\Local\\Programs\\Python\\Python311\\Lib\\site-packages\\pyaudio\\__init__.py:570\u001b[0m, in \u001b[0;36mPyAudio.Stream.read\u001b[1;34m(self, num_frames, exception_on_overflow)\u001b[0m\n\u001b[0;32m    567\u001b[0m \u001b[39mif\u001b[39;00m \u001b[39mnot\u001b[39;00m \u001b[39mself\u001b[39m\u001b[39m.\u001b[39m_is_input:\n\u001b[0;32m    568\u001b[0m     \u001b[39mraise\u001b[39;00m \u001b[39mIOError\u001b[39;00m(\u001b[39m\"\u001b[39m\u001b[39mNot input stream\u001b[39m\u001b[39m\"\u001b[39m,\n\u001b[0;32m    569\u001b[0m                   paCanNotReadFromAnOutputOnlyStream)\n\u001b[1;32m--> 570\u001b[0m \u001b[39mreturn\u001b[39;00m pa\u001b[39m.\u001b[39;49mread_stream(\u001b[39mself\u001b[39;49m\u001b[39m.\u001b[39;49m_stream, num_frames,\n\u001b[0;32m    571\u001b[0m                       exception_on_overflow)\n",
      "\u001b[1;31mKeyboardInterrupt\u001b[0m: "
     ]
    }
   ],
   "source": [
    "import speech_recognition as sr\n",
    "from bardapi import BardCookies\n",
    "from gtts import gTTS\n",
    "import os\n",
    "\n",
    "# Create a recognizer instance\n",
    "recognizer = sr.Recognizer()\n",
    "\n",
    "# Define your BardCookies instance and cookie_dict as before\n",
    "cookie_dict = {\n",
    "    \"__Secure-1PSID\": \"aQjAPfgN-1oOhvAp_-L9NeXXrpqN8v82Ef9UIUup4Xi5vPPeQm25zqdTaFP2q9odGWHL7w.\",\n",
    "    \"__Secure-1PSIDTS\": \"sidts-CjEBSAxbGf9l8QPSXCh8ltuUsWi-GQrk9xtuBinKioJJWhWPSEAsqSpgpJw33XhBzUNIEAA\",\n",
    "    \"__Secure-1PSIDCC\": \"APoG2W8v46N93fmXELDFPLEF6n79tfjBcXKOAPDs_DeZdShZeWsD7id1iPwLbdiBksQsesGsBg\"\n",
    "}\n",
    "\n",
    "bard = BardCookies(cookie_dict=cookie_dict)\n",
    "\n",
    "# Function to generate responses based on user input\n",
    "def generate_response(user_input, max_words=30):\n",
    "    try:\n",
    "        # Get an answer from Bard API based on the user's input\n",
    "        response = bard.get_answer(user_input)['content']\n",
    "\n",
    "        # Split the response into words\n",
    "        words = response.split()\n",
    "\n",
    "        # Limit the response to the specified number of words\n",
    "        limited_response = ' '.join(words[:max_words])\n",
    "\n",
    "        return limited_response\n",
    "    except Exception as e:\n",
    "        print(\"An error occurred while fetching a response from Bard API: {0}\".format(e))\n",
    "        return \"I'm sorry, but I couldn't fetch a response at the moment.\"\n",
    "\n",
    "while True:\n",
    "    try:\n",
    "        # Use microphone as the audio source\n",
    "        with sr.Microphone() as source:\n",
    "            print(\"Say something...\")\n",
    "            # Listen to the user's speech and recognize it\n",
    "            audio = recognizer.listen(source)\n",
    "\n",
    "        # Convert the recognized speech to text\n",
    "        query = recognizer.recognize_google(audio)\n",
    "\n",
    "        # Print the user's query\n",
    "        print(\"You said: \" + query)\n",
    "\n",
    "        # Generate a response based on the user's input using Bard API\n",
    "        reply = generate_response(query)\n",
    "\n",
    "        # Print the reply\n",
    "        print(\"Reply: \" + reply)\n",
    "\n",
    "        # Convert the reply to speech using gTTS\n",
    "        reply_audio = gTTS(reply)\n",
    "\n",
    "        # Save the reply as a temporary audio file\n",
    "        reply_audio.save(\"reply.mp3\")\n",
    "\n",
    "        # Play the reply audio using the default system player\n",
    "        os.system(\"start reply.mp3\")\n",
    "\n",
    "    except sr.UnknownValueError:\n",
    "        print(\"Sorry, I could not understand your speech.\")\n",
    "    except sr.RequestError as e:\n",
    "        print(\"An error occurred: {0}\".format(e))"
   ]
  }
 ],
 "metadata": {
  "kernelspec": {
   "display_name": "Python 3",
   "language": "python",
   "name": "python3"
  },
  "language_info": {
   "codemirror_mode": {
    "name": "ipython",
    "version": 3
   },
   "file_extension": ".py",
   "mimetype": "text/x-python",
   "name": "python",
   "nbconvert_exporter": "python",
   "pygments_lexer": "ipython3",
   "version": "3.11.4"
  },
  "orig_nbformat": 4
 },
 "nbformat": 4,
 "nbformat_minor": 2
}
